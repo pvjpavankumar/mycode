{
  "nbformat": 4,
  "nbformat_minor": 0,
  "metadata": {
    "colab": {
      "name": "natural_language.ipynb",
      "provenance": [],
      "collapsed_sections": [],
      "authorship_tag": "ABX9TyMb2ySd8X/aIZenf8wjeexe",
      "include_colab_link": true
    },
    "kernelspec": {
      "name": "python3",
      "display_name": "Python 3"
    }
  },
  "cells": [
    {
      "cell_type": "markdown",
      "metadata": {
        "id": "view-in-github",
        "colab_type": "text"
      },
      "source": [
        "<a href=\"https://colab.research.google.com/github/pvjpavankumar/mycode/blob/main/natural_language.ipynb\" target=\"_parent\"><img src=\"https://colab.research.google.com/assets/colab-badge.svg\" alt=\"Open In Colab\"/></a>"
      ]
    },
    {
      "cell_type": "markdown",
      "metadata": {
        "id": "Vk_yOG_yzdO1"
      },
      "source": [
        "Natural Language Example"
      ]
    },
    {
      "cell_type": "code",
      "metadata": {
        "id": "-eKx4u5yza17"
      },
      "source": [
        "!pip install spacy"
      ],
      "execution_count": null,
      "outputs": []
    },
    {
      "cell_type": "code",
      "metadata": {
        "id": "212Bbid2zykL"
      },
      "source": [
        "!pip install nltk"
      ],
      "execution_count": null,
      "outputs": []
    },
    {
      "cell_type": "code",
      "metadata": {
        "colab": {
          "base_uri": "https://localhost:8080/"
        },
        "id": "ArZ7dmBkz4ew",
        "outputId": "d07024bb-f331-422e-cf66-931e7d1eb849"
      },
      "source": [
        "#first insert the string to a variable\n",
        "string = \"HYDERABAD\"\n",
        "#get first alphabet with index\n",
        "print(string[0])\n",
        "\n",
        "#printing multiple alphabets\n",
        "print(string[2], string[5])\n",
        "\n",
        "#for getting alphabet with negative indexing\n",
        "print(string[-4])\n",
        "\n",
        "#characters with slicing\n",
        "print(string[0:2])\n",
        "#output: GU\n",
        "print(string[1:4])\n",
        "#output: URU"
      ],
      "execution_count": 6,
      "outputs": [
        {
          "output_type": "stream",
          "text": [
            "H\n",
            "D A\n",
            "A\n",
            "HY\n",
            "YDE\n"
          ],
          "name": "stdout"
        }
      ]
    },
    {
      "cell_type": "markdown",
      "metadata": {
        "id": "mweGsOvp1Ekh"
      },
      "source": [
        "strip() function -  This function removes character in the starting and from the end, but it cannot remove character in the middle. If we don’t specify a removing character, then it will remove spaces by default."
      ]
    },
    {
      "cell_type": "code",
      "metadata": {
        "colab": {
          "base_uri": "https://localhost:8080/",
          "height": 35
        },
        "id": "_KpMAIk00uLp",
        "outputId": "1e061e08-619c-45ec-ad8b-b2f35df94700"
      },
      "source": [
        "#A sentence and the removing character from the sentence\n",
        "sentence = \"****Hello World! I am Pavan Kumar****\"\n",
        "removing_character = \"*\"\n",
        "#using strip function to remove star(*)\n",
        "sentence.strip(removing_character)\n",
        " "
      ],
      "execution_count": 7,
      "outputs": [
        {
          "output_type": "execute_result",
          "data": {
            "application/vnd.google.colaboratory.intrinsic+json": {
              "type": "string"
            },
            "text/plain": [
              "'Hello World! I am Pavan Kumar'"
            ]
          },
          "metadata": {
            "tags": []
          },
          "execution_count": 7
        }
      ]
    },
    {
      "cell_type": "markdown",
      "metadata": {
        "id": "oe0oBVLc1VMV"
      },
      "source": [
        "Join Function"
      ]
    },
    {
      "cell_type": "code",
      "metadata": {
        "colab": {
          "base_uri": "https://localhost:8080/",
          "height": 35
        },
        "id": "YWmyEKx51WN8",
        "outputId": "389b917b-ef06-4139-fc7a-4bf208df7687"
      },
      "source": [
        "str1 = \"Happy\"\n",
        "str2 = \"Learning\"\n",
        "\" NLP \".join([str1, str2])"
      ],
      "execution_count": 9,
      "outputs": [
        {
          "output_type": "execute_result",
          "data": {
            "application/vnd.google.colaboratory.intrinsic+json": {
              "type": "string"
            },
            "text/plain": [
              "'Happy NLP Learning'"
            ]
          },
          "metadata": {
            "tags": []
          },
          "execution_count": 9
        }
      ]
    },
    {
      "cell_type": "markdown",
      "metadata": {
        "id": "lsGm-frb1xVK"
      },
      "source": [
        "Tokenization: When a sentence breakup into small individual words, these pieces of words are known as tokens, and the process is known as tokenization.\n",
        "The sentence breakup in prefix, infix, suffix, and exception. For tokenization, we will use the spacy library"
      ]
    },
    {
      "cell_type": "code",
      "metadata": {
        "colab": {
          "base_uri": "https://localhost:8080/"
        },
        "id": "VBfKXcnM1wzq",
        "outputId": "4a4cd8b3-ed27-4cba-f7e4-015a178693fb"
      },
      "source": [
        "#import library\n",
        "import spacy\n",
        "#Loading spacy english library\n",
        "load_en = spacy.load('en_core_web_sm')\n",
        "#take an example of string\n",
        "example_string = \"I'm going to meet Telugu Famous Action Mr. Chiranjeevi\"\n",
        "#load string to library \n",
        "words = load_en(example_string)\n",
        "#getting tokens pieces with for loop\n",
        "for tokens in words:\n",
        "    print(tokens.text)"
      ],
      "execution_count": 11,
      "outputs": [
        {
          "output_type": "stream",
          "text": [
            "I\n",
            "'m\n",
            "going\n",
            "to\n",
            "meet\\\n",
            "Telugu\n",
            "Famous\n",
            "Action\n",
            "Mr.\n",
            "Chiranjeevi\n"
          ],
          "name": "stdout"
        }
      ]
    },
    {
      "cell_type": "markdown",
      "metadata": {
        "id": "yD86n04G2bzD"
      },
      "source": [
        "Stemming : is a process in which words are reduced to their root meaning. We have 2 types of stemmer: Porter Stemmer and Snowball Stemmer. Spacy doesn’t include a stemmer, so we have to use the NLTK library for the stemming process."
      ]
    },
    {
      "cell_type": "markdown",
      "metadata": {
        "id": "QWk00p-s2dhO"
      },
      "source": [
        "Below is the Port Stemmer:"
      ]
    },
    {
      "cell_type": "code",
      "metadata": {
        "colab": {
          "base_uri": "https://localhost:8080/"
        },
        "id": "ffOel9NC2hEz",
        "outputId": "ac7a69ee-609c-4807-ee54-ac856ef7091e"
      },
      "source": [
        "#import nltk library\n",
        "import nltk\n",
        "#import porter stemmer from nltk\n",
        "from nltk.stem.porter import PorterStemmer\n",
        "pot_stem = PorterStemmer()\n",
        "#random words to test porter stemmer\n",
        "words = ['happy', 'happier', 'happiest', 'happiness', 'breathing', 'fairly']\n",
        "for word in words:\n",
        "    print(word + '----->' + pot_stem.stem(word))"
      ],
      "execution_count": 12,
      "outputs": [
        {
          "output_type": "stream",
          "text": [
            "happy----->happi\n",
            "happier----->happier\n",
            "happiest----->happiest\n",
            "happiness----->happi\n",
            "breathing----->breath\n",
            "fairly----->fairli\n"
          ],
          "name": "stdout"
        }
      ]
    },
    {
      "cell_type": "markdown",
      "metadata": {
        "id": "Id0yUMMb2oH5"
      },
      "source": [
        "As we see above, the words are reduced to its stem word, but one thing is noticed that the porter stemmer is not giving many good results. So, that's why the Snowball stemmer is used for a more improved method."
      ]
    },
    {
      "cell_type": "code",
      "metadata": {
        "colab": {
          "base_uri": "https://localhost:8080/"
        },
        "id": "zHnpS0DP2sz0",
        "outputId": "41f51525-fe85-4291-bb02-69ebad7b086c"
      },
      "source": [
        "from nltk.stem.snowball import SnowballStemmer\n",
        "snow_stem = SnowballStemmer(language='english')\n",
        "for word in words:\n",
        "    print(word + '----->' + snow_stem.stem(word))"
      ],
      "execution_count": 13,
      "outputs": [
        {
          "output_type": "stream",
          "text": [
            "happy----->happi\n",
            "happier----->happier\n",
            "happiest----->happiest\n",
            "happiness----->happi\n",
            "breathing----->breath\n",
            "fairly----->fair\n"
          ],
          "name": "stdout"
        }
      ]
    },
    {
      "cell_type": "markdown",
      "metadata": {
        "id": "7pblzPNl20d8"
      },
      "source": [
        "Lemmatization: is better than stemming and informative to find beyond the word to its stem also determine part of speech around a word. That’s why spacy has lemmatization, not stemming. So we will do lemmatization with spacy."
      ]
    },
    {
      "cell_type": "code",
      "metadata": {
        "colab": {
          "base_uri": "https://localhost:8080/"
        },
        "id": "Gqj3hRke23js",
        "outputId": "8e7ac416-5c31-4858-f259-4cc75d146490"
      },
      "source": [
        "# import spacy\n",
        "# load_en = spacy.load('en_core_web_sm')\n",
        "# take an example of string\n",
        "example_string = load_en(u\"I'm happy in this happiest place with all happiness. It feels how happier we are\")\n",
        "for lem_word in example_string:\n",
        "    print(lem_word.text, '\\t', lem_word.pos_, '\\t', lem_word.lemma, '\\t', lem_word.lemma_)"
      ],
      "execution_count": 14,
      "outputs": [
        {
          "output_type": "stream",
          "text": [
            "I \t PRON \t 561228191312463089 \t -PRON-\n",
            "'m \t AUX \t 10382539506755952630 \t be\n",
            "happy \t ADJ \t 244022080605231780 \t happy\n",
            "in \t ADP \t 3002984154512732771 \t in\n",
            "this \t DET \t 1995909169258310477 \t this\n",
            "happiest \t ADJ \t 244022080605231780 \t happy\n",
            "place \t NOUN \t 7512738811199700769 \t place\n",
            "with \t ADP \t 12510949447758279278 \t with\n",
            "all \t DET \t 13409319323822384369 \t all\n",
            "happiness \t NOUN \t 2779265004918961325 \t happiness\n",
            ". \t PUNCT \t 12646065887601541794 \t .\n",
            "It \t PRON \t 561228191312463089 \t -PRON-\n",
            "feels \t VERB \t 5741770584995928333 \t feel\n",
            "how \t ADV \t 16331095434822636218 \t how\n",
            "happier \t ADJ \t 244022080605231780 \t happy\n",
            "we \t PRON \t 561228191312463089 \t -PRON-\n",
            "are \t AUX \t 10382539506755952630 \t be\n"
          ],
          "name": "stdout"
        }
      ]
    },
    {
      "cell_type": "markdown",
      "metadata": {
        "id": "KBa-OMHx3Ei1"
      },
      "source": [
        "In the above code of lemmatization, the description of words giving all information. The part of speech of each word and the number in the output is a specific lemma in an English language library. We can observe that happiest to happy and happier to happy giving good results than stemming."
      ]
    },
    {
      "cell_type": "markdown",
      "metadata": {
        "id": "ITlv2-hy3Ht4"
      },
      "source": [
        "Stop words: are used to filter some words which are repeat often and not giving information about the text. In Spacy, there is a built-in list of some stop words."
      ]
    },
    {
      "cell_type": "code",
      "metadata": {
        "colab": {
          "base_uri": "https://localhost:8080/"
        },
        "id": "yNLYVYiI3GMR",
        "outputId": "58e9c375-1e8b-43ea-9de0-94666450b361"
      },
      "source": [
        "# import spacy\n",
        "# load_en = spacy.load('en_core_web_sm')\n",
        "print(load_en.Defaults.stop_words)"
      ],
      "execution_count": 15,
      "outputs": [
        {
          "output_type": "stream",
          "text": [
            "{'ourselves', 'whereupon', 'formerly', 'he', 'yourselves', 'after', 'same', 'name', 'side', 'such', 'every', 'hundred', 'fifteen', 'serious', 'as', 'himself', 'most', 'cannot', 'does', 'whoever', 'about', 'beside', 'seeming', 'some', 'please', 'say', 'any', 'behind', 'until', 'wherein', 'eight', 'latterly', 'though', 'moreover', 'our', 'sometimes', 'through', 'how', 'up', 'n‘t', 'is', 'no', 'and', 'whenever', 'was', 'various', 'give', 'them', 'an', 'unless', 'where', 'whereas', 'go', 'others', '‘ve', 'hereupon', 'made', 'along', 'meanwhile', 'much', 'everywhere', 'afterwards', 'her', 'everything', 'should', 'still', 'beyond', 'am', 'becomes', 'its', 'because', 'could', 'while', 'something', 'into', 'rather', 'front', 'somehow', 'will', 'a', 'were', 'each', 'may', 'five', 'so', 'now', '‘d', 'first', 'however', 'due', 'not', 'in', 'per', 'next', 'alone', 'throughout', 'top', '’ve', 'three', 'even', 'when', 'against', 'regarding', 're', 'then', '‘re', 'yourself', \"'re\", 'via', 'from', 'together', 'which', 'been', 'therefore', 'at', 'before', 'over', 'for', 'anyway', 'amount', 'to', 'became', 'bottom', 'see', 'show', 'that', 'both', 'or', 'own', 'somewhere', 'the', '’re', 'itself', 'why', 'this', 'anyone', 'other', 'she', 'ten', 'whole', 'did', 'hence', 'ever', \"'s\", 'full', 'become', 'therein', 'third', 'if', 'seem', 'indeed', 'herself', 'thereupon', 'two', 'my', 'nobody', 'call', 'beforehand', 'just', 'during', 'mostly', 'none', 'across', 'with', '‘ll', 'too', 'themselves', 'it', 'thence', 'becoming', 'doing', 'him', 'whereby', 'but', 'being', 'elsewhere', 'yours', 'me', 'be', 'below', 'we', 'everyone', 'can', 'fifty', 'last', 'whence', 'whereafter', \"'ll\", 'n’t', 'really', '‘m', 'only', 'your', 'since', 'all', 'else', 'least', 'do', 'thru', 'thereby', 'quite', 'seemed', 'forty', 'either', 'another', 'anywhere', 'nothing', 'always', 'almost', 'well', 'never', 'neither', 'who', 'have', 'out', 'what', \"n't\", 'i', 'empty', 'few', 'nowhere', 'of', 'latter', 'hers', 'on', 'there', 'whether', 'yet', 'noone', 'get', 'had', '‘s', 'twelve', 'us', 'his', 'very', 'without', 'whom', 'many', 'also', 'once', 'has', 'used', 'except', 'several', 'back', 'by', 'make', 'take', 'among', 'these', 'whither', 'nevertheless', '’d', 'otherwise', 'those', 'toward', 'namely', 'besides', 'whose', \"'m\", 'hereby', 'under', 'often', 'down', 'onto', 'they', 'wherever', 'are', 'further', 'eleven', 'someone', 'one', 'put', 'twenty', 'ours', 'more', \"'ve\", '’ll', 'using', 'between', 'again', 'off', 'anything', 'mine', '’m', 'must', 'myself', 'six', 'ca', 'anyhow', 'here', 'thus', 'upon', 'thereafter', 'sometime', 'around', 'former', 'enough', 'above', 'keep', 'you', 'whatever', '’s', 'nor', 'seems', 'already', 'amongst', 'sixty', \"'d\", 'their', 'four', 'done', 'than', 'less', 'hereafter', 'nine', 'might', 'move', 'perhaps', 'part', 'although', 'towards', 'within', 'would', 'herein'}\n"
          ],
          "name": "stdout"
        }
      ]
    },
    {
      "cell_type": "markdown",
      "metadata": {
        "id": "qHBoF4qZ3fH-"
      },
      "source": [
        "Part of Speech (POS): is a process to get information about the text and words as tokens, or we can say grammatical information of words. Deep information is very much important for natural language processing. There are two types of tags. For the noun, verb coarse tags are used, and for a plural noun, past tense type, we used fine-grained tags."
      ]
    },
    {
      "cell_type": "code",
      "metadata": {
        "colab": {
          "base_uri": "https://localhost:8080/"
        },
        "id": "y2XD8dLM3jzh",
        "outputId": "47451211-409f-45c5-f249-8ca6e139ad33"
      },
      "source": [
        "# import spacy\n",
        "# load_en = spacy.load('en_core_web_sm')\n",
        "str1 = load_en(u\"This laptop belongs to Amit Chauhan\")\n",
        "#pos_ tag operation \n",
        "print(str1[1].pos_)\n",
        " \n",
        "#to know fine grained information\n",
        "print(str1[1].tag_)\n",
        " "
      ],
      "execution_count": 17,
      "outputs": [
        {
          "output_type": "stream",
          "text": [
            "NOUN\n",
            "NN\n"
          ],
          "name": "stdout"
        }
      ]
    },
    {
      "cell_type": "markdown",
      "metadata": {
        "id": "iH6OXLkG30xT"
      },
      "source": [
        "So the coarse tag is a NOUN, and the fine grain tag is NN, so it says that this noun is singular. Let's get to know what is POS count with spacy."
      ]
    },
    {
      "cell_type": "code",
      "metadata": {
        "colab": {
          "base_uri": "https://localhost:8080/",
          "height": 35
        },
        "id": "vzT3zY3l330g",
        "outputId": "cc50f0bb-871b-4ad9-8e9e-03990518992e"
      },
      "source": [
        "pos_count = str1.count_by(spacy.attrs.POS)\n",
        "pos_count\n",
        "str1.vocab[90].text"
      ],
      "execution_count": 18,
      "outputs": [
        {
          "output_type": "execute_result",
          "data": {
            "application/vnd.google.colaboratory.intrinsic+json": {
              "type": "string"
            },
            "text/plain": [
              "'DET'"
            ]
          },
          "metadata": {
            "tags": []
          },
          "execution_count": 18
        }
      ]
    },
    {
      "cell_type": "markdown",
      "metadata": {
        "id": "tgB1Aear38VH"
      },
      "source": [
        "DET means that the 90 number belongs to determiner and the value 1 belongs to it is that this DET repeated one time in a sentence."
      ]
    },
    {
      "cell_type": "markdown",
      "metadata": {
        "id": "VDv2pz8w4Eq-"
      },
      "source": [
        "**Named entity recognition (NER)**: is very useful to identify and give a tag entity to the text, whether it is in raw form or in an unstructured form. Sometimes readers don't know the type of entity of the text so, NER helps to tag them and give meaning to the text."
      ]
    },
    {
      "cell_type": "code",
      "metadata": {
        "colab": {
          "base_uri": "https://localhost:8080/"
        },
        "id": "NpWRbUFf4NQi",
        "outputId": "9427eb86-7336-4388-9aea-5d5f47ff5e4a"
      },
      "source": [
        "# import spacy\n",
        "# load_en = spacy.load('en_core_web_sm')\n",
        "# lets label the entity in the text file\n",
        "file = load_en(u\" I am living in India, Studying in IIT\")\n",
        "doc = file\n",
        "if doc.ents:\n",
        "    for ner in doc.ents:\n",
        "        print(ner.text + ' - '+ ner.label_ + ' - ' + \n",
        "               str(spacy.explain(ner.label_)))\n",
        "else:\n",
        "    print(\"No Entity Found\")"
      ],
      "execution_count": 20,
      "outputs": [
        {
          "output_type": "stream",
          "text": [
            "India - GPE - Countries, cities, states\n",
            "IIT - ORG - Companies, agencies, institutions, etc.\n"
          ],
          "name": "stdout"
        }
      ]
    }
  ]
}