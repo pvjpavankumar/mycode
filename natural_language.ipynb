{
  "nbformat": 4,
  "nbformat_minor": 0,
  "metadata": {
    "colab": {
      "name": "natural_language.ipynb",
      "provenance": [],
      "collapsed_sections": [],
      "authorship_tag": "ABX9TyPxZx1lTjpiwFDYV3UtYkgk",
      "include_colab_link": true
    },
    "kernelspec": {
      "name": "python3",
      "display_name": "Python 3"
    }
  },
  "cells": [
    {
      "cell_type": "markdown",
      "metadata": {
        "id": "view-in-github",
        "colab_type": "text"
      },
      "source": [
        "<a href=\"https://colab.research.google.com/github/pvjpavankumar/mycode/blob/main/natural_language.ipynb\" target=\"_parent\"><img src=\"https://colab.research.google.com/assets/colab-badge.svg\" alt=\"Open In Colab\"/></a>"
      ]
    },
    {
      "cell_type": "markdown",
      "metadata": {
        "id": "Vk_yOG_yzdO1"
      },
      "source": [
        "Natural Language Example"
      ]
    },
    {
      "cell_type": "code",
      "metadata": {
        "id": "-eKx4u5yza17"
      },
      "source": [
        "!pip install spacy"
      ],
      "execution_count": null,
      "outputs": []
    },
    {
      "cell_type": "code",
      "metadata": {
        "id": "212Bbid2zykL"
      },
      "source": [
        "!pip install nltk"
      ],
      "execution_count": null,
      "outputs": []
    },
    {
      "cell_type": "code",
      "metadata": {
        "id": "ArZ7dmBkz4ew"
      },
      "source": [
        "#first insert the string to a variable\n",
        "string = \"GURUGRAM\"\n",
        "#get first alphabet with index\n",
        "print(string[0])\n",
        "\n",
        "#printing multiple alphabets\n",
        "print(string[2], string[5])\n",
        "\n",
        "#for getting alphabet with negative indexing\n",
        "print(string[-4])\n",
        "\n",
        "#characters with slicing\n",
        "print(string[0:2])\n",
        "#output: GU\n",
        "print(string[1:4])\n",
        "#output: URU"
      ],
      "execution_count": null,
      "outputs": []
    },
    {
      "cell_type": "code",
      "metadata": {
        "id": "_KpMAIk00uLp"
      },
      "source": [
        ""
      ],
      "execution_count": null,
      "outputs": []
    }
  ]
}